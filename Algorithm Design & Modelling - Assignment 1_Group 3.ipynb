{
 "cells": [
  {
   "cell_type": "markdown",
   "id": "c8773d0f",
   "metadata": {
    "id": "c8773d0f"
   },
   "source": [
    "# Exploring Algorithmic Techniques in Search and Sorting"
   ]
  },
  {
   "cell_type": "markdown",
   "id": "2f5779bf",
   "metadata": {
    "id": "2f5779bf"
   },
   "source": [
    "Here we demonstrate five different algorithms and their use cases in the context of searching and sorting.\n",
    "\n",
    "1. Divide and Conquer - Merge Sort\n",
    "2. Hashing\n",
    "3. Randomization\n",
    "4. Dynamic Programming\n",
    "5. Approximation"
   ]
  },
  {
   "cell_type": "markdown",
   "id": "0a7b687e",
   "metadata": {
    "id": "0a7b687e"
   },
   "source": [
    "# 1: Divide and Conquer"
   ]
  },
  {
   "cell_type": "markdown",
   "id": "52dca3a6",
   "metadata": {
    "id": "52dca3a6"
   },
   "source": [
    "## Merge Sort - Pseudo Code"
   ]
  },
  {
   "cell_type": "code",
   "execution_count": null,
   "id": "bfdba4f2",
   "metadata": {},
   "outputs": [],
   "source": [
    "# MergeSort function sorts the array arr[] from index l to r\n",
    "MergeSort(arr[], l, r):\n",
    "    # Check if there are elements to be sorted\n",
    "    if l < r then\n",
    "        # Calculate the middle index\n",
    "        mid = (l + r) / 2\n",
    "        \n",
    "        # Recursively sort the left half of the array\n",
    "        MergeSort(arr, l, mid)\n",
    "        \n",
    "        # Recursively sort the right half of the array\n",
    "        MergeSort(arr, mid + 1, r)\n",
    "        \n",
    "        # Merge the sorted halves\n",
    "        Merge(arr, l, mid, r)\n",
    "\n",
    "# Merge function merges two sorted subarrays\n",
    "Merge(arr[], l, mid, r):\n",
    "    # Calculate the sizes of the two subarrays\n",
    "    n1 = mid - l + 1\n",
    "    n2 = r - mid\n",
    "    \n",
    "    # Create temporary arrays to store the elements of the two subarrays\n",
    "    Left[n1], Right[n2]\n",
    "    \n",
    "    # Copy the elements of the left subarray into Left[]\n",
    "    for i = 1 to n1\n",
    "        Left[i] = arr[l + i - 1]\n",
    "    \n",
    "    # Copy the elements of the right subarray into Right[]\n",
    "    for j = 1 to n2\n",
    "        Right[j] = arr[mid + j]\n",
    "    \n",
    "    # Merge the two sorted subarrays back into the original array arr[]\n",
    "    i = 1\n",
    "    j = 1\n",
    "    k = l\n",
    "    while i <= n1 and j <= n2\n",
    "        if Left[i] <= Right[j]\n",
    "            arr[k] = Left[i]\n",
    "            i = i + 1\n",
    "        else\n",
    "            arr[k] = Right[j]\n",
    "            j = j + 1\n",
    "        k = k + 1\n",
    "    \n",
    "    # Copy any remaining elements from Left[] into arr[]\n",
    "    while i <= n1\n",
    "        arr[k] = Left[i]\n",
    "        i = i + 1\n",
    "        k = k + 1\n",
    "    \n",
    "    # Copy any remaining elements from Right[] into arr[]\n",
    "    while j <= n2\n",
    "        arr[k] = Right[j]\n",
    "        j = j + 1\n",
    "        k = k + 1"
   ]
  },
  {
   "cell_type": "markdown",
   "id": "edbbd1e7",
   "metadata": {
    "id": "edbbd1e7"
   },
   "source": [
    "### The below code demonstrates a practical application of the MergeSort algorithm in handling large datasets in file systems. Let's simulate a scenario where we have a directory containing a large number of files, and we need to sort the list of filenames in alphabetical order using MergeSort."
   ]
  },
  {
   "cell_type": "code",
   "execution_count": 1,
   "id": "f57f895d",
   "metadata": {
    "id": "f57f895d",
    "outputId": "7fbed9e8-9c2d-4b1b-8809-e1a1aa4e2e83"
   },
   "outputs": [],
   "source": [
    "#Defining the merge_sort function\n",
    "def merge_sort(arr):\n",
    "    if len(arr) > 1:\n",
    "        mid = len(arr) // 2\n",
    "        left_half = arr[:mid]\n",
    "        right_half = arr[mid:]\n",
    "\n",
    "        merge_sort(left_half)\n",
    "        merge_sort(right_half)\n",
    "\n",
    "        i = j = k = 0\n",
    "\n",
    "        # Merge the sorted halves\n",
    "        while i < len(left_half) and j < len(right_half):\n",
    "            if left_half[i] < right_half[j]:\n",
    "                arr[k] = left_half[i]\n",
    "                i += 1\n",
    "            else:\n",
    "                arr[k] = right_half[j]\n",
    "                j += 1\n",
    "            k += 1\n",
    "\n",
    "        # Copy remaining elements of left_half[], if any\n",
    "        while i < len(left_half):\n",
    "            arr[k] = left_half[i]\n",
    "            i += 1\n",
    "            k += 1\n",
    "\n",
    "        # Copy remaining elements of right_half[], if any\n",
    "        while j < len(right_half):\n",
    "            arr[k] = right_half[j]\n",
    "            j += 1\n",
    "            k += 1"
   ]
  },
  {
   "cell_type": "code",
   "execution_count": 2,
   "id": "ce556165",
   "metadata": {},
   "outputs": [
    {
     "name": "stdout",
     "output_type": "stream",
     "text": [
      "Original List of Filenames:\n",
      "document_3.txt\n",
      "image_1.jpg\n",
      "presentation.pptx\n",
      "music_2.mp3\n",
      "spreadsheet.xlsx\n",
      "document_1.txt\n",
      "image_3.jpg\n",
      "music_1.mp3\n",
      "document_2.txt\n",
      "image_2.jpg\n",
      "music_3.mp3\n",
      "video_1.mp4\n",
      "video_2.mp4\n"
     ]
    }
   ],
   "source": [
    "# Sample list of filenames\n",
    "file_names = [\n",
    "    \"document_3.txt\",\n",
    "    \"image_1.jpg\",\n",
    "    \"presentation.pptx\",\n",
    "    \"music_2.mp3\",\n",
    "    \"spreadsheet.xlsx\",\n",
    "    \"document_1.txt\",\n",
    "    \"image_3.jpg\",\n",
    "    \"music_1.mp3\",\n",
    "    \"document_2.txt\",\n",
    "    \"image_2.jpg\",\n",
    "    \"music_3.mp3\",\n",
    "    \"video_1.mp4\",\n",
    "    \"video_2.mp4\"\n",
    "]\n",
    "\n",
    "# Print original list of filenames\n",
    "print(\"Original List of Filenames:\")\n",
    "for file_name in file_names:\n",
    "    print(file_name)"
   ]
  },
  {
   "cell_type": "code",
   "execution_count": 3,
   "id": "1a2a2eac",
   "metadata": {},
   "outputs": [],
   "source": [
    "# Sort file names using MergeSort\n",
    "merge_sort(file_names)"
   ]
  },
  {
   "cell_type": "code",
   "execution_count": 4,
   "id": "dede4aef",
   "metadata": {},
   "outputs": [
    {
     "name": "stdout",
     "output_type": "stream",
     "text": [
      "\n",
      "Sorted List of Filenames:\n",
      "document_1.txt\n",
      "document_2.txt\n",
      "document_3.txt\n",
      "image_1.jpg\n",
      "image_2.jpg\n",
      "image_3.jpg\n",
      "music_1.mp3\n",
      "music_2.mp3\n",
      "music_3.mp3\n",
      "presentation.pptx\n",
      "spreadsheet.xlsx\n",
      "video_1.mp4\n",
      "video_2.mp4\n"
     ]
    }
   ],
   "source": [
    "# Print sorted list of filenames\n",
    "print(\"\\nSorted List of Filenames:\")\n",
    "for file_name in file_names:\n",
    "    print(file_name)"
   ]
  },
  {
   "cell_type": "markdown",
   "id": "50bbf0f7",
   "metadata": {
    "id": "50bbf0f7"
   },
   "source": [
    "# 2: Hashing"
   ]
  },
  {
   "cell_type": "markdown",
   "id": "0Zba2tHNoOou",
   "metadata": {
    "id": "0Zba2tHNoOou"
   },
   "source": [
    "## Hashing Algorthim - Pseudo Code"
   ]
  },
  {
   "cell_type": "code",
   "execution_count": null,
   "id": "ae0a0fef",
   "metadata": {
    "id": "ae0a0fef"
   },
   "outputs": [],
   "source": [
    "#1 Initialize an array (hash table) of size N to store the data.\n",
    "hash_table = Array of size N\n",
    "\n",
    "#2 Define a hash function to map keys (e.g., names) to indices in an array.\n",
    "function hash(key):\n",
    "    return key mod N\n",
    "\n",
    "#3 Insert data into the hash table using the hash function.\n",
    "function insert(key, value):\n",
    "    #Calculate the index using the hash function.\n",
    "    index = hash(key)\n",
    "\n",
    "    #If the index is empty, insert the data.\n",
    "    if hash_table[index] is empty:\n",
    "        hash_table[index] = value\n",
    "\n",
    "    #Else if the index is occupied (collision), handle collision resolution.\n",
    "    else:\n",
    "        # Handle collision\n",
    "        # Chaining: Append to linked list at index\n",
    "        # Open Addressing: Probe for next available slot\n",
    "\n",
    "#4 Search for data in the hash table.\n",
    "function search(key):\n",
    "    #Calculate the index using the hash function.\n",
    "    index = hash(key)\n",
    "\n",
    "    #If the index is empty, the data is not present.\n",
    "    if hash_table[index] is empty:\n",
    "        return \"Not found\"\n",
    "    #If the index is occupied, search for the data.\n",
    "    else:\n",
    "        # Search for key in linked list at index or probe further\n",
    "\n",
    "#5 Sort the data using a hash-based sorting algorithm.\n",
    "function hash_sort(data):\n",
    "    # Initialize hash table\n",
    "    for item in data:\n",
    "        insert(item, item)\n",
    "\n",
    "    # Traverse hash table and collect data in sorted order\n",
    "    sorted_data = []\n",
    "    for entry in hash_table:\n",
    "        if entry is not empty:\n",
    "            sorted_data.append(entry)\n",
    "\n",
    "    return sorted_data"
   ]
  },
  {
   "cell_type": "markdown",
   "id": "REcrlJzGrUzB",
   "metadata": {
    "id": "REcrlJzGrUzB"
   },
   "source": [
    "### This example below demonstrates a hash table implementation for an address book application. It includes methods for inserting, searching for entries by key (name), deleting, sorting and displaying the contents of the hash table. Collisions are handled using chaining, where entries with the same hash value are stored in a linked list. Finally, it shows how to use the hash table to store and retrieve phone numbers for individuals.\n",
    "\n"
   ]
  },
  {
   "cell_type": "code",
   "execution_count": 5,
   "id": "nLGbnHqNrT8R",
   "metadata": {
    "id": "nLGbnHqNrT8R"
   },
   "outputs": [],
   "source": [
    "class Entry:\n",
    "    def __init__(self, key, value):\n",
    "        \"\"\"\n",
    "        Initializes an Entry object with a key-value pair.\n",
    "        Args:\n",
    "            key: The key of the entry.\n",
    "            value: The value associated with the key.\n",
    "        \"\"\"\n",
    "        self.key = key\n",
    "        self.value = value\n",
    "        self.next = None\n",
    "\n",
    "class HashTable:\n",
    "    def __init__(self, size):\n",
    "        \"\"\"\n",
    "        Initializes a HashTable object with a specified size.\n",
    "        Args:\n",
    "            size: The size of the hash table.\n",
    "        \"\"\"\n",
    "        self.size = size\n",
    "        self.table = [None] * size\n",
    "\n",
    "    def _hash(self, key):\n",
    "        \"\"\"\n",
    "        Hashes the given key to generate an index within the hash table.\n",
    "        Args:\n",
    "            key: The key to be hashed.\n",
    "        Returns:\n",
    "            An index within the hash table.\n",
    "        \"\"\"\n",
    "        return hash(key) % self.size\n",
    "\n",
    "    def insert(self, key, value):\n",
    "        \"\"\"\n",
    "        Inserts a key-value pair into the hash table.\n",
    "        Args:\n",
    "            key: The key of the entry.\n",
    "            value: The value associated with the key.\n",
    "        \"\"\"\n",
    "        index = self._hash(key)\n",
    "        if self.table[index] is None:\n",
    "            # If the bucket is empty, create a new entry\n",
    "            self.table[index] = Entry(key, value)\n",
    "        else:\n",
    "            # If the bucket is not empty (collision occurred), append the new entry to the end of the linked list\n",
    "            current = self.table[index]\n",
    "            while current.next:\n",
    "                current = current.next\n",
    "            current.next = Entry(key, value)\n",
    "\n",
    "    def search(self, key):\n",
    "        \"\"\"\n",
    "        Searches for the value associated with the given key in the hash table.\n",
    "        Args:\n",
    "            key: The key to search for.\n",
    "        Returns:\n",
    "            The value associated with the key if found, otherwise None.\n",
    "        \"\"\"\n",
    "        index = self._hash(key)\n",
    "        current = self.table[index]\n",
    "        while current:\n",
    "            if current.key == key:\n",
    "                return current.value\n",
    "            current = current.next\n",
    "        return None\n",
    "\n",
    "    def delete(self, key):\n",
    "        \"\"\"\n",
    "        Deletes the entry associated with the given key from the hash table.\n",
    "        Args:\n",
    "            key: The key of the entry to be deleted.\n",
    "        Returns:\n",
    "            True if the entry was deleted successfully, False otherwise.\n",
    "        \"\"\"\n",
    "        index = self._hash(key)\n",
    "        current = self.table[index]\n",
    "        prev = None\n",
    "        while current:\n",
    "            if current.key == key:\n",
    "                if prev:\n",
    "                    prev.next = current.next\n",
    "                else:\n",
    "                    self.table[index] = current.next\n",
    "                return True\n",
    "            prev = current\n",
    "            current = current.next\n",
    "        return False\n",
    "\n",
    "    def get_keys(self):\n",
    "        \"\"\"\n",
    "        Retrieves all keys stored in the hash table.\n",
    "        Returns:\n",
    "            A list containing all keys in the hash table.\n",
    "        \"\"\"\n",
    "        keys = []\n",
    "        for entry in self.table:\n",
    "            current = entry\n",
    "            while current:\n",
    "                keys.append(current.key)\n",
    "                current = current.next\n",
    "        return keys\n",
    "\n",
    "    def sort_keys(self):\n",
    "        \"\"\"\n",
    "        Retrieves all keys stored in the hash table and sorts them.\n",
    "        Returns:\n",
    "            A sorted list containing all keys in the hash table.\n",
    "        \"\"\"\n",
    "        keys = self.get_keys()\n",
    "        keys.sort()\n",
    "        return keys\n",
    "\n",
    "    def display(self):\n",
    "        \"\"\"\n",
    "        Displays the contents of the hash table.\n",
    "        \"\"\"\n",
    "        for i in range(self.size):\n",
    "            print(f\"Bucket {i}: \", end=\"\")\n",
    "            current = self.table[i]\n",
    "            while current:\n",
    "                print(f\"({current.key}: {current.value})\", end=\" -> \" if current.next else \"\")\n",
    "                current = current.next\n",
    "            print(\"None\")\n"
   ]
  },
  {
   "cell_type": "code",
   "execution_count": 6,
   "id": "cVmn4Y2TreO5",
   "metadata": {
    "id": "cVmn4Y2TreO5"
   },
   "outputs": [],
   "source": [
    "# Create a hash table with size 10\n",
    "address_book = HashTable(10)"
   ]
  },
  {
   "cell_type": "code",
   "execution_count": 7,
   "id": "aWYhz5z2rlNh",
   "metadata": {
    "id": "aWYhz5z2rlNh"
   },
   "outputs": [],
   "source": [
    "# Insert some entries\n",
    "address_book.insert(\"Alice\", \"123-456-7890\")\n",
    "address_book.insert(\"Bob\", \"234-567-8901\")\n",
    "address_book.insert(\"Charlie\", \"345-678-9012\")\n",
    "address_book.insert(\"David\", \"456-789-0123\")\n",
    "address_book.insert(\"Eve\", \"567-890-1234\")"
   ]
  },
  {
   "cell_type": "code",
   "execution_count": 8,
   "id": "P0GdalZQrnip",
   "metadata": {
    "colab": {
     "base_uri": "https://localhost:8080/"
    },
    "id": "P0GdalZQrnip",
    "outputId": "006c7504-f162-4c51-bf2a-461da1d6abf7"
   },
   "outputs": [
    {
     "name": "stdout",
     "output_type": "stream",
     "text": [
      "Bucket 0: (Eve: 567-890-1234)None\n",
      "Bucket 1: None\n",
      "Bucket 2: None\n",
      "Bucket 3: None\n",
      "Bucket 4: None\n",
      "Bucket 5: None\n",
      "Bucket 6: None\n",
      "Bucket 7: (Bob: 234-567-8901)None\n",
      "Bucket 8: (Alice: 123-456-7890) -> (Charlie: 345-678-9012)None\n",
      "Bucket 9: (David: 456-789-0123)None\n"
     ]
    }
   ],
   "source": [
    "# Display the hash table\n",
    "address_book.display()\n"
   ]
  },
  {
   "cell_type": "code",
   "execution_count": 9,
   "id": "B3rLUVQprpdJ",
   "metadata": {
    "colab": {
     "base_uri": "https://localhost:8080/"
    },
    "id": "B3rLUVQprpdJ",
    "outputId": "acf4669e-b455-4ba3-9c5f-ada235b3e0c7"
   },
   "outputs": [
    {
     "name": "stdout",
     "output_type": "stream",
     "text": [
      "Phone number for Alice: 123-456-7890\n",
      "Phone number for John: None\n"
     ]
    }
   ],
   "source": [
    "# Search for a phone number\n",
    "print(\"Phone number for Alice:\", address_book.search(\"Alice\"))\n",
    "print(\"Phone number for John:\", address_book.search(\"John\"))"
   ]
  },
  {
   "cell_type": "code",
   "execution_count": 10,
   "id": "DvNES6Tut8FN",
   "metadata": {
    "colab": {
     "base_uri": "https://localhost:8080/"
    },
    "id": "DvNES6Tut8FN",
    "outputId": "1713e673-0b88-41e6-f53d-f4307a80fd42"
   },
   "outputs": [
    {
     "name": "stdout",
     "output_type": "stream",
     "text": [
      "Sorted keys: ['Alice', 'Bob', 'Charlie', 'David', 'Eve']\n"
     ]
    }
   ],
   "source": [
    "# Sort the keys\n",
    "sorted_keys = address_book.sort_keys()\n",
    "print(\"Sorted keys:\", sorted_keys)"
   ]
  },
  {
   "cell_type": "code",
   "execution_count": 11,
   "id": "_g_HPiiJuLAV",
   "metadata": {
    "colab": {
     "base_uri": "https://localhost:8080/"
    },
    "id": "_g_HPiiJuLAV",
    "outputId": "e8ae9e30-876f-436d-c53b-0af591a437b3"
   },
   "outputs": [
    {
     "data": {
      "text/plain": [
       "True"
      ]
     },
     "execution_count": 11,
     "metadata": {},
     "output_type": "execute_result"
    }
   ],
   "source": [
    "# Delete an entry\n",
    "address_book.delete(\"Bob\")"
   ]
  },
  {
   "cell_type": "code",
   "execution_count": 12,
   "id": "oa5lSw0HuZSN",
   "metadata": {
    "colab": {
     "base_uri": "https://localhost:8080/"
    },
    "id": "oa5lSw0HuZSN",
    "outputId": "044e5e6a-e891-458c-b548-fc3a968d1c8d"
   },
   "outputs": [
    {
     "name": "stdout",
     "output_type": "stream",
     "text": [
      "\n",
      "Hash table after deletion:\n",
      "Bucket 0: (Eve: 567-890-1234)None\n",
      "Bucket 1: None\n",
      "Bucket 2: None\n",
      "Bucket 3: None\n",
      "Bucket 4: None\n",
      "Bucket 5: None\n",
      "Bucket 6: None\n",
      "Bucket 7: None\n",
      "Bucket 8: (Alice: 123-456-7890) -> (Charlie: 345-678-9012)None\n",
      "Bucket 9: (David: 456-789-0123)None\n"
     ]
    }
   ],
   "source": [
    "# Display the hash table after deletion\n",
    "print(\"\\nHash table after deletion:\")\n",
    "address_book.display()"
   ]
  },
  {
   "cell_type": "markdown",
   "id": "df41807c",
   "metadata": {
    "id": "df41807c"
   },
   "source": [
    "# 3: Randomization"
   ]
  },
  {
   "cell_type": "markdown",
   "id": "a6d35c89",
   "metadata": {},
   "source": [
    "## Randomization - Pseudo Code"
   ]
  },
  {
   "cell_type": "code",
   "execution_count": null,
   "id": "78a8a9b7",
   "metadata": {
    "id": "78a8a9b7"
   },
   "outputs": [],
   "source": [
    "1. Define a function called quicksort that takes an array 'arr' as input. \n",
    "2. Check if the length of the array is 1 or less. If so, return the array as it is already sorted. \n",
    "3. Choose a random element from the array 'arr' as the pivot. \n",
    "4. Create three separate lists: 'lesser' for elements less than the pivot, 'equal' for elements equal to the pivot, and 'greater' for elements greater than the pivot. \n",
    "5. Recursively call the quicksort function on the 'lesser' and 'greater' lists, then concatenate the sorted 'lesser', 'equal', and 'greater' lists to get the final sorted array. \n",
    "6. Define a list called 'my_list' with unsorted elements. \n",
    "7. Call the quicksort function on 'my_list' to sort it. \n",
    "8. Print the sorted list."
   ]
  },
  {
   "cell_type": "markdown",
   "id": "cd197e01",
   "metadata": {},
   "source": [
    "### The provided code demonstrates the application of the quicksort algorithm for efficiently sorting a list of numbers in ascending order. Quicksort is known for its average-case time complexity of O(n log n), making it a popular choice for sorting large datasets. Let's explore scenarios where quicksort can be utilized to efficiently organize various datasets for analysis or processing."
   ]
  },
  {
   "cell_type": "code",
   "execution_count": 13,
   "id": "ac903d2c",
   "metadata": {},
   "outputs": [
    {
     "name": "stdout",
     "output_type": "stream",
     "text": [
      "Sorted List: [1, 2, 3, 4, 5, 6, 7]\n"
     ]
    }
   ],
   "source": [
    "# Importing the random module for pivot selection\n",
    "import random\n",
    "\n",
    "def quicksort(arr):\n",
    "    # Base case: If the array has one or fewer elements, it is already sorted\n",
    "    if len(arr) <= 1:\n",
    "        return arr\n",
    "    \n",
    "    # Randomly selecting a pivot element from the array\n",
    "    pivot = random.choice(arr)\n",
    "    \n",
    "    # Partitioning the array into three subarrays: lesser, equal, and greater\n",
    "    lesser = [x for x in arr if x < pivot]\n",
    "    equal = [x for x in arr if x == pivot]\n",
    "    greater = [x for x in arr if x > pivot]\n",
    "    \n",
    "    # Recursively sorting the lesser and greater subarrays and combining them with the equal elements\n",
    "    return quicksort(lesser) + equal + quicksort(greater)\n",
    "\n",
    "# Example usage: Sorting a list using randomized quicksort\n",
    "my_list = [1, 2, 3, 4, 5, 6, 7]\n",
    "sorted_list = quicksort(my_list)\n",
    "\n",
    "# Printing the sorted list\n",
    "print(\"Sorted List:\", sorted_list)"
   ]
  },
  {
   "cell_type": "code",
   "execution_count": 14,
   "id": "9a2bb00e",
   "metadata": {},
   "outputs": [
    {
     "name": "stdout",
     "output_type": "stream",
     "text": [
      "Sorted List: [1, 2, 3, 4, 5, 6, 7]\n"
     ]
    }
   ],
   "source": [
    "# Importing the random module for pivot selection\n",
    "import random\n",
    "\n",
    "def quicksort(arr):\n",
    "    # Base case: If the array has one or fewer elements, it is already sorted\n",
    "    if len(arr) <= 1:\n",
    "        return arr\n",
    "    \n",
    "    # Randomly selecting a pivot element from the array\n",
    "    pivot = random.choice(arr)\n",
    "    \n",
    "    # Partitioning the array into three subarrays: lesser, equal, and greater\n",
    "    lesser = [x for x in arr if x < pivot]\n",
    "    equal = [x for x in arr if x == pivot]\n",
    "    greater = [x for x in arr if x > pivot]\n",
    "    \n",
    "    # Recursively sorting the lesser and greater subarrays and combining them with the equal elements\n",
    "    return quicksort(lesser) + equal + quicksort(greater)\n",
    "\n",
    "# Example usage: Sorting a list using randomized quicksort\n",
    "my_list = [3, 1, 7, 5, 2, 4, 6]\n",
    "sorted_list = quicksort(my_list)\n",
    "\n",
    "# Printing the sorted list\n",
    "print(\"Sorted List:\", sorted_list)\n"
   ]
  },
  {
   "cell_type": "code",
   "execution_count": 15,
   "id": "95166e9c",
   "metadata": {},
   "outputs": [
    {
     "name": "stdout",
     "output_type": "stream",
     "text": [
      "Sorted List: [1, 2, 3, 4, 5, 6, 7]\n"
     ]
    }
   ],
   "source": [
    "# Importing the random module for pivot selection\n",
    "import random\n",
    "\n",
    "def quicksort(arr):\n",
    "    # Base case: If the array has one or fewer elements, it is already sorted\n",
    "    if len(arr) <= 1:\n",
    "        return arr\n",
    "    \n",
    "    # Randomly selecting a pivot element from the array\n",
    "    pivot = random.choice(arr)\n",
    "    \n",
    "    # Partitioning the array into three subarrays: lesser, equal, and greater\n",
    "    lesser = [x for x in arr if x < pivot]\n",
    "    equal = [x for x in arr if x == pivot]\n",
    "    greater = [x for x in arr if x > pivot]\n",
    "    \n",
    "    # Recursively sorting the lesser and greater subarrays and combining them with the equal elements\n",
    "    return quicksort(lesser) + equal + quicksort(greater)\n",
    "\n",
    "# Example usage: Sorting a list using randomized quicksort\n",
    "my_list = [7, 6, 5, 4, 3, 2, 1]\n",
    "sorted_list = quicksort(my_list)\n",
    "\n",
    "# Printing the sorted list\n",
    "print(\"Sorted List:\", sorted_list)"
   ]
  },
  {
   "cell_type": "markdown",
   "id": "a2cc0b68",
   "metadata": {
    "id": "a2cc0b68"
   },
   "source": [
    "# 4: Dynamic programming"
   ]
  },
  {
   "cell_type": "markdown",
   "id": "f086b829",
   "metadata": {},
   "source": [
    "## Dynamic Programming - Pseudo Code"
   ]
  },
  {
   "cell_type": "code",
   "execution_count": null,
   "id": "5794e175",
   "metadata": {
    "id": "5794e175"
   },
   "outputs": [],
   "source": [
    "# Function to find the length of the longest increasing subsequence in an array\n",
    "function longest_increasing_subsequence(arr):\n",
    "    n = length of arr # Length of the input array\n",
    "    \n",
    "    # Initialize an array to store the length of longest increasing subsequence ending at each index\n",
    "    lis = array of size n, initialized with 1\n",
    "\n",
    "    # Iterate through each element in the array\n",
    "    for i from 1 to n-1:\n",
    "        \n",
    "        # Iterate through elements before the current element\n",
    "        for j from 0 to i-1:\n",
    "            \n",
    "            # Check if the current element is greater than the previous element\n",
    "            # and if increasing subsequence ending at the current element is longer than the previous\n",
    "            if arr[i] > arr[j] and lis[i] < lis[j] + 1:\n",
    "                \n",
    "                # Update the length of increasing subsequence ending at the current element\n",
    "                lis[i] = lis[j] + 1\n",
    "\n",
    "    # Return the maximum length of increasing subsequence\n",
    "    return maximum value in lis"
   ]
  },
  {
   "cell_type": "markdown",
   "id": "d7c2cc70",
   "metadata": {},
   "source": [
    "### The following code exemplifies the application of dynamic programming to find the length of the longest increasing subsequence in an array. This algorithm efficiently identifies subsequences where each element is larger than the preceding one. Let's consider a scenario where we have a list of numbers representing the heights of students in a class. We want to find the longest increasing subsequence of heights to identify the tallest students in ascending order."
   ]
  },
  {
   "cell_type": "code",
   "execution_count": 16,
   "id": "17e235ff",
   "metadata": {},
   "outputs": [],
   "source": [
    "# Function to find the length of the longest increasing subsequence in an array\n",
    "def longest_increasing_subsequence(arr):\n",
    "    # Initialization\n",
    "    n = len(arr)  # Length of the input array\n",
    "    lis = [1] * n  # Initialize an array to store the length of LIS ending at each index\n",
    "    \n",
    "    # Main Loop to iterate through each element in the array\n",
    "    for i in range(1, n):\n",
    "        # Nested Loop to iterate through elements before the current element\n",
    "        for j in range(0, i):\n",
    "            # Condition Check: Compare current element with previous elements\n",
    "            if arr[i] > arr[j] and lis[i] < lis[j] + 1:\n",
    "                # Update LIS if the current element can extend the existing subsequence\n",
    "                lis[i] = lis[j] + 1\n",
    "    \n",
    "    # Final Result: Return the maximum length of increasing subsequence\n",
    "    return max(lis)"
   ]
  },
  {
   "cell_type": "code",
   "execution_count": 17,
   "id": "981c0b24",
   "metadata": {},
   "outputs": [
    {
     "name": "stdout",
     "output_type": "stream",
     "text": [
      "Result =  6\n"
     ]
    }
   ],
   "source": [
    "# Example:\n",
    "arr = [10, 22, 9, 33, 21, 50, 41, 60, 80]\n",
    "result = longest_increasing_subsequence(arr)\n",
    "print(\"Result = \", result)"
   ]
  },
  {
   "cell_type": "markdown",
   "id": "657391df",
   "metadata": {
    "id": "657391df"
   },
   "source": [
    "# 5: Approximation"
   ]
  },
  {
   "cell_type": "markdown",
   "id": "575ebb96",
   "metadata": {},
   "source": [
    "## Approximation - Pseudo Code"
   ]
  },
  {
   "cell_type": "code",
   "execution_count": null,
   "id": "930f68f1",
   "metadata": {},
   "outputs": [],
   "source": [
    "APPROXIMATION_TSP(Graph G):\n",
    "    # Initialization\n",
    "    Let V be the set of vertices in G\n",
    "    Let n be the number of vertices in G\n",
    "    Let dist[u][v] be the distance between vertices u and v for all u, v in V\n",
    "    Let tour be an empty list to store the approximate TSP tour\n",
    "    \n",
    "    # Start with an arbitrary vertex\n",
    "    Start from any vertex s in V\n",
    "    \n",
    "    # Greedy approach: Visit the nearest unvisited vertex\n",
    "    Repeat n-1 times:\n",
    "        Find the nearest unvisited vertex u from the current vertex s\n",
    "        Add the edge (s, u) to the tour\n",
    "        Mark vertex u as visited\n",
    "        Update s to u\n",
    "    \n",
    "    # Complete the tour by returning to the starting vertex\n",
    "    Add the edge (u, s) to the tour\n",
    "    \n",
    "    # Return the approximate TSP tour\n",
    "    Return tour"
   ]
  },
  {
   "cell_type": "markdown",
   "id": "qO49m0Kvhuqp",
   "metadata": {
    "id": "qO49m0Kvhuqp"
   },
   "source": [
    "### This implementation finds an approximate solution to the Traveling Salesman Problem (TSP) using the nearest neighbor algorithm with Euclidean distance as the distance metric. This code aslo plot the cities and the approximate TSP path connecting the cities in the order specified by the TSP path."
   ]
  },
  {
   "cell_type": "code",
   "execution_count": 18,
   "id": "ed93ae26",
   "metadata": {
    "id": "ed93ae26"
   },
   "outputs": [],
   "source": [
    "import numpy as np\n",
    "import matplotlib.pyplot as plt\n",
    "\n",
    "# Function to calculate the Euclidean distance between two cities\n",
    "def euclidean_distance(city1, city2):\n",
    "    return np.sqrt((city1[0] - city2[0])**2 + (city1[1] - city2[1])**2)\n",
    "\n",
    "# Function to find an approximate TSP path using the nearest neighbor algorithm\n",
    "def nearest_neighbor_tsp(cities):\n",
    "    n = len(cities)\n",
    "    unvisited = set(range(1, n))  # Set of unvisited cities (excluding the starting city)\n",
    "    path = [0]  # Start from city 0\n",
    "    current_city = 0  # Initialize the current city to the starting city (city 0)\n",
    "\n",
    "    while unvisited:\n",
    "        # Find the next nearest unvisited city\n",
    "        next_city = min(unvisited, key=lambda x: euclidean_distance(cities[current_city], cities[x]))\n",
    "        path.append(next_city)  # Add the next city to the path\n",
    "        unvisited.remove(next_city)  # Remove the next city from the set of unvisited cities\n",
    "        current_city = next_city  # Update the current city for the next iteration\n",
    "\n",
    "    path.append(0)  # Return to the starting city to complete the cycle\n",
    "    return path"
   ]
  },
  {
   "cell_type": "code",
   "execution_count": 19,
   "id": "zVQklVAEndIY",
   "metadata": {
    "colab": {
     "base_uri": "https://localhost:8080/"
    },
    "id": "zVQklVAEndIY",
    "outputId": "a422b216-682b-4990-a62a-f5e0ce8996d7"
   },
   "outputs": [
    {
     "name": "stdout",
     "output_type": "stream",
     "text": [
      "Approximate TSP path: [0, 1, 8, 2, 9, 5, 3, 7, 4, 6, 0]\n"
     ]
    }
   ],
   "source": [
    "#List of city coordinates (x, y)\n",
    "cities = [(0, 0), (1, 2), (3, 1), (4, 3), (2, 4), (5, 0), (1, 5), (3, 4), (2, 1), (4, 0)]\n",
    "\n",
    "# Find the approximate TSP path using the nearest neighbor algorithm\n",
    "tsp_path = nearest_neighbor_tsp(cities)\n",
    "\n",
    "# Print the approximate TSP path\n",
    "print(\"Approximate TSP path:\", tsp_path)"
   ]
  },
  {
   "cell_type": "code",
   "execution_count": 20,
   "id": "mp2uB9ITiAXr",
   "metadata": {
    "id": "mp2uB9ITiAXr"
   },
   "outputs": [],
   "source": [
    "import matplotlib.pyplot as plt\n",
    "\n",
    "def plot_tsp_path(cities, tsp_path):\n",
    "    # Extract x and y coordinates of cities\n",
    "    x = [city[0] for city in cities]\n",
    "    y = [city[1] for city in cities]\n",
    "\n",
    "    # Extract the coordinates of cities along the TSP path\n",
    "    path_x = [x[i] for i in tsp_path]\n",
    "    path_y = [y[i] for i in tsp_path]\n",
    "\n",
    "    # Plot the cities and TSP path\n",
    "    plt.figure(figsize=(8, 6))\n",
    "    plt.scatter(x, y, color='blue')  # Plot cities\n",
    "    plt.plot(path_x, path_y, linestyle='-', marker='o')  # Plot TSP path\n",
    "\n",
    "    # Annotate cities with their index\n",
    "    for i, (city_x, city_y) in enumerate(cities):\n",
    "        plt.text(city_x, city_y, str(i), fontsize=12, ha='center', va='bottom')\n",
    "\n",
    "    # Set plot title and labels\n",
    "    plt.title('Approximate TSP Path')\n",
    "    plt.xlabel('X Coordinate')\n",
    "    plt.ylabel('Y Coordinate')\n",
    "    plt.grid(True)\n",
    "    plt.show()"
   ]
  },
  {
   "cell_type": "code",
   "execution_count": 21,
   "id": "kBT3nc8Pnicg",
   "metadata": {
    "colab": {
     "base_uri": "https://localhost:8080/",
     "height": 564
    },
    "id": "kBT3nc8Pnicg",
    "outputId": "fdab104f-b7c3-4cf2-e9e9-39be59febbe6"
   },
   "outputs": [
    {
     "data": {
      "image/png": "[encoded data removed]",
      "text/plain": [
       "<Figure size 800x600 with 1 Axes>"
      ]
     },
     "metadata": {},
     "output_type": "display_data"
    }
   ],
   "source": [
    "plot_tsp_path(cities, tsp_path)"
   ]
  },
  {
   "cell_type": "markdown",
   "id": "WG0lMFFvAAZo",
   "metadata": {
    "id": "WG0lMFFvAAZo"
   },
   "source": [
    "## Comparison of Exact and Approximate Traveling Salesman Problem Solutions"
   ]
  },
  {
   "cell_type": "code",
   "execution_count": 22,
   "id": "cs3XmmhT_iQF",
   "metadata": {
    "colab": {
     "base_uri": "https://localhost:8080/"
    },
    "id": "cs3XmmhT_iQF",
    "outputId": "e88f7683-bbd3-41f0-ab26-da9ba37d64d2"
   },
   "outputs": [
    {
     "name": "stdout",
     "output_type": "stream",
     "text": [
      "Number of cities: 10\n",
      "Exact TSP length: 3.03931857505053, Time: 0.007965326309204102 seconds\n",
      "Approximate TSP length: 3.0393185750505305, Time: 3.266334533691406e-05 seconds\n",
      "\n",
      "Number of cities: 11\n",
      "Exact TSP length: 2.6799493940121564, Time: 0.012140035629272461 seconds\n",
      "Approximate TSP length: 3.1428192087890108, Time: 2.193450927734375e-05 seconds\n",
      "\n",
      "Number of cities: 12\n",
      "Exact TSP length: 3.571844891045147, Time: 0.025710105895996094 seconds\n",
      "Approximate TSP length: 4.294975255038116, Time: 2.288818359375e-05 seconds\n",
      "\n",
      "Number of cities: 13\n",
      "Exact TSP length: 3.4609817203877316, Time: 0.07425093650817871 seconds\n",
      "Approximate TSP length: 3.6037518730615967, Time: 2.6941299438476562e-05 seconds\n",
      "\n",
      "Number of cities: 14\n",
      "Exact TSP length: 3.0339037671040363, Time: 0.1264801025390625 seconds\n",
      "Approximate TSP length: 3.2159482161229933, Time: 2.4080276489257812e-05 seconds\n",
      "\n",
      "Number of cities: 15\n",
      "Exact TSP length: 3.56214457840236, Time: 0.30054306983947754 seconds\n",
      "Approximate TSP length: 4.022638988281266, Time: 3.2901763916015625e-05 seconds\n",
      "\n"
     ]
    }
   ],
   "source": [
    "import numpy as np\n",
    "import time\n",
    "\n",
    "# Exact TSP solution using Held-Karp algorithm\n",
    "def held_karp_tsp(dist_matrix):\n",
    "    n = len(dist_matrix)\n",
    "    memo = {}\n",
    "\n",
    "    def tsp(curr, visited):\n",
    "        if (curr, visited) in memo:\n",
    "            return memo[(curr, visited)]\n",
    "\n",
    "        if visited == (1 << n) - 1:\n",
    "            return dist_matrix[curr][0]\n",
    "\n",
    "        min_dist = float('inf')\n",
    "        for next_city in range(n):\n",
    "            if not (visited >> next_city) & 1:\n",
    "                min_dist = min(min_dist, dist_matrix[curr][next_city] + tsp(next_city, visited | (1 << next_city)))\n",
    "\n",
    "        memo[(curr, visited)] = min_dist\n",
    "        return min_dist\n",
    "\n",
    "    return tsp(0, 1)\n",
    "\n",
    "# Approximate TSP solution using Nearest Neighbor algorithm\n",
    "def nearest_neighbor_tsp(cities):\n",
    "    n = len(cities)\n",
    "    unvisited = set(range(1, n))\n",
    "    path = [0]  # Start from city 0\n",
    "    current_city = 0\n",
    "\n",
    "    while unvisited:\n",
    "        next_city = min(unvisited, key=lambda x: cities[current_city][x])\n",
    "        path.append(next_city)\n",
    "        unvisited.remove(next_city)\n",
    "        current_city = next_city\n",
    "\n",
    "    path.append(0)  # Return to starting city\n",
    "    return path\n",
    "\n",
    "# Calculate distance matrix for cities\n",
    "def calculate_distance_matrix(cities):\n",
    "    n = len(cities)\n",
    "    dist_matrix = np.zeros((n, n))\n",
    "    for i in range(n):\n",
    "        for j in range(n):\n",
    "            dist_matrix[i][j] = np.linalg.norm(np.array(cities[i]) - np.array(cities[j]))\n",
    "    return dist_matrix\n",
    "\n",
    "# Measure computational complexity\n",
    "for n in range(10, 16):  # Vary the number of cities from 5 to 15\n",
    "    cities = np.random.rand(n, 2)  # Generate random cities\n",
    "    dist_matrix = calculate_distance_matrix(cities)\n",
    "\n",
    "    start_time = time.time()\n",
    "    exact_tsp_length = held_karp_tsp(dist_matrix)\n",
    "    exact_time = time.time() - start_time\n",
    "\n",
    "    start_time = time.time()\n",
    "    approximate_tsp_path = nearest_neighbor_tsp(dist_matrix)\n",
    "    approximate_tsp_length = sum(dist_matrix[approximate_tsp_path[i]][approximate_tsp_path[i+1]] for i in range(len(approximate_tsp_path) - 1))\n",
    "    approximate_time = time.time() - start_time\n",
    "\n",
    "    print(f\"Number of cities: {n}\")\n",
    "    print(f\"Exact TSP length: {exact_tsp_length}, Time: {exact_time} seconds\")\n",
    "    print(f\"Approximate TSP length: {approximate_tsp_length}, Time: {approximate_time} seconds\")\n",
    "    print()\n"
   ]
  }
 ],
 "metadata": {
  "colab": {
   "provenance": []
  },
  "kernelspec": {
   "display_name": "Python 3 (ipykernel)",
   "language": "python",
   "name": "python3"
  },
  "language_info": {
   "codemirror_mode": {
    "name": "ipython",
    "version": 3
   },
   "file_extension": ".py",
   "mimetype": "text/x-python",
   "name": "python",
   "nbconvert_exporter": "python",
   "pygments_lexer": "ipython3",
   "version": "3.11.5"
  }
 },
 "nbformat": 4,
 "nbformat_minor": 5
}
